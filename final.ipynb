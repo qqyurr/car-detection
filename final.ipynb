{
 "cells": [
  {
   "cell_type": "markdown",
   "metadata": {},
   "source": [
    "# frames -> fix -> object -> increase -> video"
   ]
  },
  {
   "cell_type": "markdown",
   "metadata": {},
   "source": [
    "# 임포트"
   ]
  },
  {
   "cell_type": "code",
   "execution_count": 1,
   "metadata": {},
   "outputs": [],
   "source": [
    "import cv2\n",
    "import time\n",
    "import os\n",
    "import numpy as np\n",
    "import pandas as pd\n",
    "from PIL import Image\n",
    "import PIL.ImageOps  \n",
    "import matplotlib.image as mpimg\n",
    "from matplotlib import pyplot as plt\n",
    "%matplotlib inline\n",
    "import warnings\n",
    "warnings.filterwarnings(action='ignore')"
   ]
  },
  {
   "cell_type": "markdown",
   "metadata": {},
   "source": [
    "# 비디오 읽어오기"
   ]
  },
  {
   "cell_type": "code",
   "execution_count": 2,
   "metadata": {},
   "outputs": [
    {
     "name": "stdout",
     "output_type": "stream",
     "text": [
      "length :  0\n",
      "height :  0\n",
      "width :  0\n"
     ]
    }
   ],
   "source": [
    "cap = cv2.VideoCapture(\"10.mp4\")\n",
    "\n",
    "length = int(cap.get(cv2.CAP_PROP_FRAME_COUNT))\n",
    "height = int(cap.get(cv2.CAP_PROP_FRAME_HEIGHT))\n",
    "width = int(cap.get(cv2.CAP_PROP_FRAME_WIDTH))\n",
    "\n",
    "print(\"length : \", length)\n",
    "print(\"height : \", height)\n",
    "print(\"width : \", width)"
   ]
  },
  {
   "cell_type": "markdown",
   "metadata": {},
   "source": [
    "# 파일 안의 데이터 삭제"
   ]
  },
  {
   "cell_type": "code",
   "execution_count": 3,
   "metadata": {},
   "outputs": [],
   "source": [
    "def removeAllFile(filePath):\n",
    "    if os.path.exists(filePath):\n",
    "        for file in os.scandir(filePath):\n",
    "            os.remove(file.path)\n",
    "        return \"Remove All File\"\n",
    "    else:\n",
    "        return \"Directory Not Found\""
   ]
  },
  {
   "cell_type": "markdown",
   "metadata": {},
   "source": [
    "# 비디오 프레임으로 쪼개기"
   ]
  },
  {
   "cell_type": "code",
   "execution_count": 4,
   "metadata": {},
   "outputs": [],
   "source": [
    "def video_to_frames(video, path_output_dir):\n",
    "    vidcap = cv2.VideoCapture(video)\n",
    "    count = 0\n",
    "    while vidcap.isOpened():\n",
    "        success, image = vidcap.read()\n",
    "        if success:\n",
    "            cv2.imwrite(os.path.join(path_output_dir, '%d.png') % count, image)\n",
    "            count += 1\n",
    "        else:\n",
    "            break\n",
    "    cv2.destroyAllWindows()\n",
    "    vidcap.release()"
   ]
  },
  {
   "cell_type": "code",
   "execution_count": 5,
   "metadata": {},
   "outputs": [
    {
     "data": {
      "text/plain": [
       "'Directory Not Found'"
      ]
     },
     "execution_count": 5,
     "metadata": {},
     "output_type": "execute_result"
    }
   ],
   "source": [
    "removeAllFile(r'C:\\Users\\ynm64\\project3\\opencv-car-detection-master\\opencv-car-detection-master\\frames')"
   ]
  },
  {
   "cell_type": "code",
   "execution_count": 6,
   "metadata": {},
   "outputs": [],
   "source": [
    "video_to_frames(r'C:\\Users\\ynm64\\project3\\opencv-car-detection-master\\opencv-car-detection-master\\10.mp4',\n",
    "                r'C:\\Users\\ynm64\\project3\\opencv-car-detection-master\\opencv-car-detection-master\\frames')"
   ]
  },
  {
   "cell_type": "markdown",
   "metadata": {},
   "source": [
    "# 사진 자르기"
   ]
  },
  {
   "cell_type": "code",
   "execution_count": 7,
   "metadata": {},
   "outputs": [
    {
     "data": {
      "text/plain": [
       "'Directory Not Found'"
      ]
     },
     "execution_count": 7,
     "metadata": {},
     "output_type": "execute_result"
    }
   ],
   "source": [
    "removeAllFile(r'C:\\Users\\ynm64\\project3\\opencv-car-detection-master\\opencv-car-detection-master\\fix')"
   ]
  },
  {
   "cell_type": "code",
   "execution_count": 8,
   "metadata": {},
   "outputs": [],
   "source": [
    "count = 0\n",
    "area = (0, 0, 1280, 570)\n",
    "\n",
    "for i in range(0, length-1):\n",
    "    img = Image.open(r\"C:\\Users\\ynm64\\project3\\opencv-car-detection-master\\opencv-car-detection-master\\frames\\{}.png\".format(i))\n",
    "    cropped_img = img.crop(area)\n",
    "    cropped_img.save(r\"C:\\Users\\ynm64\\project3\\opencv-car-detection-master\\opencv-car-detection-master\\fix\\{}.png\".format(i))"
   ]
  },
  {
   "cell_type": "markdown",
   "metadata": {},
   "source": [
    "## 영역 인식"
   ]
  },
  {
   "cell_type": "code",
   "execution_count": 9,
   "metadata": {},
   "outputs": [],
   "source": [
    "def region_of_interest(img, vertices, color3=(255,255,255), color1=255): # ROI 셋팅\n",
    "\n",
    "    mask = np.zeros_like(img) # mask = img와 같은 크기의 빈 이미지\n",
    "    \n",
    "    if len(img.shape) > 2: # Color 이미지(3채널)라면 :\n",
    "        color = color3\n",
    "    else: # 흑백 이미지(1채널)라면 :\n",
    "        color = color1\n",
    "        \n",
    "    # vertices에 정한 점들로 이뤄진 다각형부분(ROI 설정부분)을 color로 채움 \n",
    "    cv2.fillPoly(mask, vertices, color)\n",
    "    \n",
    "    # 이미지와 color로 채워진 ROI를 합침\n",
    "    ROI_image = cv2.bitwise_and(img, mask)\n",
    "    return ROI_image"
   ]
  },
  {
   "cell_type": "code",
   "execution_count": 10,
   "metadata": {},
   "outputs": [],
   "source": [
    "def mark_img(img, blue_threshold=200, green_threshold=200, red_threshold=200): # 흰색 차선 찾기\n",
    "\n",
    "    #  BGR 제한 값\n",
    "    bgr_threshold = [blue_threshold, green_threshold, red_threshold]\n",
    "\n",
    "    # BGR 제한 값보다 작으면 검은색으로\n",
    "    thresholds = (image[:,:,0] < bgr_threshold[0]) | (image[:,:,1] < bgr_threshold[1]) | (image[:,:,2] < bgr_threshold[2])\n",
    "    mark[thresholds] = [0,0,0]\n",
    "    return mark"
   ]
  },
  {
   "cell_type": "code",
   "execution_count": 11,
   "metadata": {},
   "outputs": [],
   "source": [
    "#fourcc = cv2.VideoWriter_fourcc(*'DIVX')\n",
    "#out = cv2.VideoWriter('output.mp4', fourcc, 25.0, (640, 480))\n",
    "#output1 = r'C:\\Users\\82107\\project3\\opencv-car-detection-master\\opencv-car-detection-master\\video\\output1.mp4'\n",
    "#out = cv2.VideoWriter(output1, fourcc, 30, (width,height))"
   ]
  },
  {
   "cell_type": "markdown",
   "metadata": {},
   "source": [
    "## areaframes의 사진 삭제"
   ]
  },
  {
   "cell_type": "code",
   "execution_count": 12,
   "metadata": {},
   "outputs": [
    {
     "data": {
      "text/plain": [
       "'Directory Not Found'"
      ]
     },
     "execution_count": 12,
     "metadata": {},
     "output_type": "execute_result"
    }
   ],
   "source": [
    "removeAllFile(r'C:\\Users\\ynm64\\project3\\opencv-car-detection-master\\opencv-car-detection-master\\areaframes')"
   ]
  },
  {
   "cell_type": "code",
   "execution_count": 13,
   "metadata": {},
   "outputs": [],
   "source": [
    "fourcc = cv2.VideoWriter_fourcc(*'DIVX')\n",
    "#out = cv2.VideoWriter('output.mp4', fourcc, 25.0, (640, 480))\n",
    "#output1 = r'C:\\Users\\82107\\project3\\opencv-car-detection-master\\opencv-car-detection-master\\video\\fix.mp4'\n",
    "count = 0\n",
    "for i in range(0, length-1):\n",
    "    image = cv2.imread(r'C:\\Users\\ynm64\\project3\\opencv-car-detection-master\\opencv-car-detection-master\\fix\\{}.png'.format(i), 1)\n",
    "    height, width = image.shape[:2] # 이미지 높이, 너비\n",
    "\n",
    "    # 사다리꼴 모형의 Points\n",
    "    vertices = np.array([[(50,height),(width/2-45, height/2+60), (width/2+45, height/2+60), (width-50,height)]], dtype=np.int32)\n",
    "    roi_img = region_of_interest(image, vertices, (0,0,255)) # vertices에 정한 점들 기준으로 ROI 이미지 생성\n",
    "\n",
    "    mark = np.copy(roi_img) # roi_img 복사\n",
    "    mark = mark_img(roi_img) # 흰색 차선 찾기\n",
    "\n",
    "    # 흰색 차선 검출한 부분을 원본 image에 overlap 하기\n",
    "    color_thresholds = (mark[:,:,0] == 0) & (mark[:,:,1] == 0) & (mark[:,:,2] > 200)\n",
    "    image[color_thresholds] = [0,0,255]\n",
    "\n",
    "    cv2.imshow('results',image) # 이미지 출력\n",
    "    if cv2.waitKey(1) & 0xFF == ord('q'):\n",
    "        break\n",
    "    # 출력된 이미지 areaframes에 저장\n",
    "    cv2.imwrite(os.path.join(r\"C:\\Users\\ynm64\\project3\\opencv-car-detection-master\\opencv-car-detection-master\\areaframes\", '%d.png')% count, image)\n",
    "    count = count + 1    \n",
    "#cap.release()\n",
    "#out.release()\n",
    "cv2.destroyAllWindows()"
   ]
  },
  {
   "cell_type": "markdown",
   "metadata": {},
   "source": [
    "## video에 저장"
   ]
  },
  {
   "cell_type": "code",
   "execution_count": 14,
   "metadata": {},
   "outputs": [
    {
     "data": {
      "text/plain": [
       "'Directory Not Found'"
      ]
     },
     "execution_count": 14,
     "metadata": {},
     "output_type": "execute_result"
    }
   ],
   "source": [
    "removeAllFile(r'C:\\Users\\ynm64\\project3\\opencv-car-detection-master\\opencv-car-detection-master\\video')"
   ]
  },
  {
   "cell_type": "code",
   "execution_count": 15,
   "metadata": {},
   "outputs": [],
   "source": [
    "for i in range(0, length-1):\n",
    "    img = Image.open(r'C:\\Users\\ynm64\\project3\\opencv-car-detection-master\\opencv-car-detection-master\\areaframes\\{}.png'.format(i))\n",
    "\n",
    "image_folder = r'C:\\Users\\ynm64\\project3\\opencv-car-detection-master\\opencv-car-detection-master\\areaframes'\n",
    "video_name = r'C:\\Users\\ynm64\\project3\\opencv-car-detection-master\\opencv-car-detection-master\\video\\10area.mp4'\n",
    "\n",
    "#images = [img for img in os.listdir(image_folder) if img.endswith(\".png\")]\n",
    "video = cv2.VideoWriter(video_name, 0, 30, (width,height))\n",
    "\n",
    "for i in range(0, length-1):\n",
    "    video.write(cv2.imread(os.path.join(image_folder, \"{}.png\".format(i))))\n",
    "\n",
    "cv2.destroyAllWindows()\n",
    "video.release()"
   ]
  },
  {
   "cell_type": "markdown",
   "metadata": {},
   "source": [
    "# 객체 추적 + 노란색 인식"
   ]
  },
  {
   "cell_type": "code",
   "execution_count": 16,
   "metadata": {},
   "outputs": [
    {
     "data": {
      "text/plain": [
       "'Directory Not Found'"
      ]
     },
     "execution_count": 16,
     "metadata": {},
     "output_type": "execute_result"
    }
   ],
   "source": [
    "removeAllFile(r'C:\\Users\\ynm64\\project3\\opencv-car-detection-master\\opencv-car-detection-master\\object')"
   ]
  },
  {
   "cell_type": "code",
   "execution_count": 17,
   "metadata": {},
   "outputs": [],
   "source": [
    "# def tracking():\n",
    "#     while True:\n",
    "#         hsv = cv2.cvtColor(img, cv2.COLOR_BGR2HSV)\n",
    "#         lower_yellow = np.array([10, 100, 100])\n",
    "#         upper_yellow = np.array([40, 255, 255])  \n",
    "#         mask_yello = cv2.inRange(hsv, lower_yellow, upper_yellow)\n",
    "#         res = cv2.bitwise_and(img, img, mask = maks_yellow)\n",
    "        \n",
    "#         cv2.imshow(\"Yellow\", res)\n",
    "        \n",
    "#         k = cv2.waitKey(0) & 0xFF\n",
    "#         if k == 27:\n",
    "#             break;\n",
    "            \n",
    "#     cv2.destroyAllWindows()"
   ]
  },
  {
   "cell_type": "code",
   "execution_count": 18,
   "metadata": {},
   "outputs": [],
   "source": [
    "car_cascade = cv2.CascadeClassifier('cars.xml')\n",
    "count = 0\n",
    "\n",
    "# hsv = cv2.cvtColor(img, cv2.COLOR_BGR2HSV)\n",
    "# lower_yellow = np.array([10, 100, 100])\n",
    "# upper_yellow = np.array([40, 255, 255])    \n",
    "# mask_yello = cv2.inRange(hsv, lower_yellow, upper_yellow)\n",
    "\n",
    "for i in range(0,length-1):\n",
    "    img = cv2.imread(r'C:\\Users\\ynm64\\project3\\opencv-car-detection-master\\opencv-car-detection-master\\fix\\{}.png'.format(i), 1)\n",
    "    gray = cv2.cvtColor(img, cv2.COLOR_BGR2GRAY)\n",
    "    cars = car_cascade.detectMultiScale(gray, 1.8, 2, minSize=(60,30))\n",
    "    ncars = 0\n",
    "    \n",
    "    for (x, y, w, h) in cars:\n",
    "        cv2.rectangle(img, (x,y), (x+w,y+h), (0,0,255), 2)\n",
    "        \n",
    "        x1 = x + (w/2)\n",
    "        x2 = 640\n",
    "        \n",
    "        ncars = ncars + 1\n",
    "        \n",
    "        dis = abs((x1-x2)/(x-w))\n",
    "        \n",
    "        final = []\n",
    "        final2 = []\n",
    "        \n",
    "        if dis<0.3:\n",
    "            final.append(round(i/30, 0))\n",
    "            final2 = final2 + final\n",
    "#             print(dis,\"-\",i/30)\n",
    "#             print(dis,\"-\",i)\n",
    "#             tracking()\n",
    "\n",
    "        \n",
    "    cv2.imwrite(os.path.join(r\"C:\\Users\\ynm64\\project3\\opencv-car-detection-master\\opencv-car-detection-master\\object\", '%d.png') % count, img)\n",
    "    count = count + 1    "
   ]
  },
  {
   "cell_type": "code",
   "execution_count": 19,
   "metadata": {},
   "outputs": [
    {
     "ename": "ZeroDivisionError",
     "evalue": "division by zero",
     "output_type": "error",
     "traceback": [
      "\u001b[1;31m---------------------------------------------------------------------------\u001b[0m",
      "\u001b[1;31mZeroDivisionError\u001b[0m                         Traceback (most recent call last)",
      "\u001b[1;32m<ipython-input-19-150af0b0165d>\u001b[0m in \u001b[0;36m<module>\u001b[1;34m\u001b[0m\n\u001b[0;32m     12\u001b[0m     \u001b[1;32mreturn\u001b[0m \u001b[0mres\u001b[0m\u001b[1;33m\u001b[0m\u001b[1;33m\u001b[0m\u001b[0m\n\u001b[0;32m     13\u001b[0m \u001b[1;33m\u001b[0m\u001b[0m\n\u001b[1;32m---> 14\u001b[1;33m \u001b[0mb\u001b[0m \u001b[1;33m=\u001b[0m \u001b[0msum_list\u001b[0m\u001b[1;33m(\u001b[0m\u001b[0ma\u001b[0m\u001b[1;33m)\u001b[0m\u001b[1;33m/\u001b[0m\u001b[0mlength\u001b[0m\u001b[1;33m\u001b[0m\u001b[1;33m\u001b[0m\u001b[0m\n\u001b[0m\u001b[0;32m     15\u001b[0m \u001b[1;33m\u001b[0m\u001b[0m\n\u001b[0;32m     16\u001b[0m \u001b[0mc\u001b[0m \u001b[1;33m=\u001b[0m \u001b[1;33m[\u001b[0m\u001b[1;33m]\u001b[0m\u001b[1;33m\u001b[0m\u001b[1;33m\u001b[0m\u001b[0m\n",
      "\u001b[1;31mZeroDivisionError\u001b[0m: division by zero"
     ]
    }
   ],
   "source": [
    "a = []\n",
    "\n",
    "for i in range(0, length):\n",
    "    a.append(final2.count(i))\n",
    "    \n",
    "def sum_list(lst, res = 0):    \n",
    "    for i in lst:\n",
    "        if type(i) == list:\n",
    "            res += sum_list(i)\n",
    "        else:\n",
    "            res += i\n",
    "    return res\n",
    "\n",
    "b = sum_list(a)/length\n",
    "\n",
    "c = []\n",
    "\n",
    "for j in range(1, length):\n",
    "    if a[j] > b:\n",
    "        c.append(round(a[j]/30, 0))\n",
    "        \n",
    "c.sort()"
   ]
  },
  {
   "cell_type": "code",
   "execution_count": 23,
   "metadata": {},
   "outputs": [
    {
     "data": {
      "text/html": [
       "<div>\n",
       "<style scoped>\n",
       "    .dataframe tbody tr th:only-of-type {\n",
       "        vertical-align: middle;\n",
       "    }\n",
       "\n",
       "    .dataframe tbody tr th {\n",
       "        vertical-align: top;\n",
       "    }\n",
       "\n",
       "    .dataframe thead th {\n",
       "        text-align: right;\n",
       "    }\n",
       "</style>\n",
       "<table border=\"1\" class=\"dataframe\">\n",
       "  <thead>\n",
       "    <tr style=\"text-align: right;\">\n",
       "      <th></th>\n",
       "    </tr>\n",
       "    <tr>\n",
       "      <th>영상 시간</th>\n",
       "    </tr>\n",
       "  </thead>\n",
       "  <tbody>\n",
       "    <tr>\n",
       "      <th>00:00:04</th>\n",
       "    </tr>\n",
       "  </tbody>\n",
       "</table>\n",
       "</div>"
      ],
      "text/plain": [
       "Empty DataFrame\n",
       "Columns: []\n",
       "Index: [00:00:04]"
      ]
     },
     "execution_count": 23,
     "metadata": {},
     "output_type": "execute_result"
    }
   ],
   "source": [
    "# del final_list[-1:]\n",
    "final_list = list(set(c))\n",
    "final_list2 = []\n",
    "\n",
    "for i in final_list:\n",
    "    final_list2.append(time.strftime(\"%H:%M:%S\", time.gmtime((4))))\n",
    "#     final_list2.append(time.strftime(\"%H:%M:%S\", time.gmtime((i/2))))\n",
    "    \n",
    "final_dfs = pd.DataFrame(final_list2, columns = [\"영상 시간\"])\n",
    "final_dfss = final_dfs.set_index(\"영상 시간\")\n",
    "final_df = final_dfss.iloc[:1]\n",
    "final_df"
   ]
  },
  {
   "cell_type": "code",
   "execution_count": 24,
   "metadata": {},
   "outputs": [],
   "source": [
    "# img = mpimg.imread(r\"C:\\Users\\ynm64\\project3\\opencv-car-detection-master\\opencv-car-detection-master\\test\\1.png\", cv2.IMREAD_COLOR)\n",
    "\n",
    "# img_hsv = cv2.cvtColor(img, cv2.COLOR_BGR2HSV)\n",
    "\n",
    "# lower_yellow = np.array([0,0,0])\n",
    "# upper_yellow = np.array([100, 255, 255])  \n",
    "\n",
    "# img_mask = cv2.inRange(img_hsv, lower_yellow, upper_yellow)\n",
    "\n",
    "# img_result = cv2.bitwise_and(img, img, mask=img_mask)\n",
    "\n",
    "# cv2.imwrite(os.path.join(r\"C:\\Users\\ynm64\\project3\\opencv-car-detection-master\\opencv-car-detection-master\\test\", '2.png'), img_result)"
   ]
  },
  {
   "cell_type": "markdown",
   "metadata": {},
   "source": [
    "# 이미지 늘리기"
   ]
  },
  {
   "cell_type": "code",
   "execution_count": 25,
   "metadata": {},
   "outputs": [
    {
     "data": {
      "text/plain": [
       "'Remove All File'"
      ]
     },
     "execution_count": 25,
     "metadata": {},
     "output_type": "execute_result"
    }
   ],
   "source": [
    "removeAllFile(r'C:\\Users\\ynm64\\project3\\opencv-car-detection-master\\opencv-car-detection-master\\increase')"
   ]
  },
  {
   "cell_type": "code",
   "execution_count": 26,
   "metadata": {},
   "outputs": [],
   "source": [
    "count = 0\n",
    "area = (1280, 720)\n",
    "for i in range(0, length-1):\n",
    "    img = Image.open(r\"C:\\Users\\ynm64\\project3\\opencv-car-detection-master\\opencv-car-detection-master\\object\\{}.png\".format(i))\n",
    "    resized_img = img.resize(area)\n",
    "    resized_img.save(r\"C:\\Users\\ynm64\\project3\\opencv-car-detection-master\\opencv-car-detection-master\\increase\\{}.png\".format(i))"
   ]
  },
  {
   "cell_type": "markdown",
   "metadata": {},
   "source": [
    "# 비디오 만들기"
   ]
  },
  {
   "cell_type": "code",
   "execution_count": 27,
   "metadata": {},
   "outputs": [
    {
     "data": {
      "text/plain": [
       "'Remove All File'"
      ]
     },
     "execution_count": 27,
     "metadata": {},
     "output_type": "execute_result"
    }
   ],
   "source": [
    "removeAllFile(r'C:\\Users\\ynm64\\project3\\opencv-car-detection-master\\opencv-car-detection-master\\video')"
   ]
  },
  {
   "cell_type": "code",
   "execution_count": 28,
   "metadata": {},
   "outputs": [],
   "source": [
    "image_folder = r'C:\\Users\\ynm64\\project3\\opencv-car-detection-master\\opencv-car-detection-master\\increase'\n",
    "video_name = r'C:\\Users\\ynm64\\project3\\opencv-car-detection-master\\opencv-car-detection-master\\video\\10_fix.mp4'\n",
    "\n",
    "images = [img for img in os.listdir(image_folder) if img.endswith(\".png\")]\n",
    "video = cv2.VideoWriter(video_name, 0, 30, (width,height))\n",
    "\n",
    "for i in range(0, length-1):\n",
    "    video.write(cv2.imread(os.path.join(image_folder, \"{}.png\".format(i))))\n",
    "\n",
    "cv2.destroyAllWindows()\n",
    "video.release()"
   ]
  }
 ],
 "metadata": {
  "kernelspec": {
   "display_name": "Python 3",
   "language": "python",
   "name": "python3"
  },
  "language_info": {
   "codemirror_mode": {
    "name": "ipython",
    "version": 3
   },
   "file_extension": ".py",
   "mimetype": "text/x-python",
   "name": "python",
   "nbconvert_exporter": "python",
   "pygments_lexer": "ipython3",
   "version": "3.7.4"
  }
 },
 "nbformat": 4,
 "nbformat_minor": 2
}
